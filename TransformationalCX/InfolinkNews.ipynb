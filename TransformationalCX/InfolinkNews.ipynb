{
 "cells": [
  {
   "cell_type": "markdown",
   "id": "6ebfbc2b-0e47-4633-b1b8-0760b58bc57f",
   "metadata": {},
   "source": [
    "# Using Machines for Text Generation \n",
    "\n",
    "### Infolink News \n",
    "\n",
    "#### Sergio Nieto"
   ]
  },
  {
   "cell_type": "markdown",
   "id": "d42550bf-b5d6-4b47-a685-3b1b3e115bf4",
   "metadata": {},
   "source": [
    "We'll use OpenAi API to have available the AI model for text generation called GPT-3."
   ]
  },
  {
   "cell_type": "code",
   "execution_count": 2,
   "id": "5251bc8b-1c04-4d82-87c5-e9ac79f8a2d4",
   "metadata": {},
   "outputs": [],
   "source": [
    "#!pip install openai"
   ]
  },
  {
   "cell_type": "code",
   "execution_count": 3,
   "id": "59e7b617-0fe5-4b6e-b17d-1e1505a9ccdc",
   "metadata": {},
   "outputs": [],
   "source": [
    "import os \n",
    "import openai"
   ]
  },
  {
   "cell_type": "markdown",
   "id": "d17e6cf8-2a4d-4270-9c10-fd4667d44097",
   "metadata": {},
   "source": [
    "you will need to save your API key in the variable __api_id"
   ]
  },
  {
   "cell_type": "code",
   "execution_count": 97,
   "id": "1718ebbc-4833-47de-9ea4-4de6974f578e",
   "metadata": {},
   "outputs": [],
   "source": [
    "def GPT3_Completion(texts, tokens_long):## Call the API key under your account (in a secure way)\n",
    "    openai.api_key = api_llave #\"your API key\"\n",
    "    response = openai.Completion.create(engine=\"text-davinci-002\", \n",
    "                                        prompt =  texts, \n",
    "                                        temperature = 0.25, \n",
    "                                        top_p = 1, \n",
    "                                        max_tokens = tokens_long,\n",
    "                                        frequency_penalty = 0,\n",
    "                                        presence_penalty = 0)\n",
    "    return print(response.choices[0].text)"
   ]
  },
  {
   "cell_type": "markdown",
   "id": "64ee1d81-8b6f-4d84-8bfa-dfde174f0470",
   "metadata": {},
   "source": [
    "Let's ask GPT to generate text about a specific topic:"
   ]
  },
  {
   "cell_type": "code",
   "execution_count": 84,
   "id": "3422588e-0470-40bd-880d-fffc2fa16bda",
   "metadata": {},
   "outputs": [
    {
     "name": "stdout",
     "output_type": "stream",
     "text": [
      "\n",
      "\n",
      "Chiles en nogada is a traditional dish from Mexico that is typically served around the time of Mexican Independence Day (September 16). It consists of poblano peppers stuffed with a mixture of ground meat, fruits, and nuts, and then covered in a creamy walnut sauce (nogada). The dish is usually garnished with pomegranate seeds and cilantro, which represent the three colors of the Mexican flag (green, white, and red).\n"
     ]
    }
   ],
   "source": [
    "GPT3_Completion('Write about chiles en nogada', 100)"
   ]
  },
  {
   "cell_type": "code",
   "execution_count": 102,
   "id": "e6479ae9-f09c-400a-8a70-ecc5a9c0f366",
   "metadata": {},
   "outputs": [
    {
     "name": "stdout",
     "output_type": "stream",
     "text": [
      "\n",
      "\n",
      "Ingredients:\n",
      "\n",
      "1 lb. fresh poblano peppers\n",
      "\n",
      "1 cup shredded Queso Fresco cheese\n",
      "\n",
      "1/2 cup milk\n",
      "\n",
      "1/4 cup all-purpose flour\n",
      "\n",
      "1/4 teaspoon salt\n",
      "\n",
      "1/4 teaspoon ground black pepper\n",
      "\n",
      "1 cup prepared salsa\n",
      "\n",
      "1/4 cup chopped fresh cilantro\n",
      "\n",
      "Directions:\n",
      "\n",
      "1. Preheat oven to 350 degrees F (175 degrees C).\n",
      "\n",
      "2. Place\n"
     ]
    }
   ],
   "source": [
    "GPT3_Completion('Write a recipe for chiles en nogada with cheese', 100)"
   ]
  },
  {
   "cell_type": "markdown",
   "id": "d5a31575-e7f6-40bb-b6e4-b944706281c5",
   "metadata": {},
   "source": [
    "### We now turn to our post at Infolink-News\n",
    "\n",
    "First generate a title, perhaps you'll need to tune it a few times:"
   ]
  },
  {
   "cell_type": "code",
   "execution_count": 75,
   "id": "09ba23c1-e9a9-4f8b-979d-5223b80e82b1",
   "metadata": {},
   "outputs": [],
   "source": [
    "title = 'Write a title about We help IoT and Smart Tech companies scale their customer support and human intelligence operations'"
   ]
  },
  {
   "cell_type": "code",
   "execution_count": 76,
   "id": "0addac1e-908d-4669-ade0-bc408196cf3c",
   "metadata": {},
   "outputs": [
    {
     "name": "stdout",
     "output_type": "stream",
     "text": [
      "\n",
      "\n",
      "Scaling Smart: How We Help IoT and Smart Tech Companies Maximize Customer Support and Human Intelligence\n"
     ]
    }
   ],
   "source": [
    "GPT3_Completion(title, 30)"
   ]
  },
  {
   "cell_type": "markdown",
   "id": "fdc3ffe0-d17f-44b2-9021-3048d5abb07b",
   "metadata": {},
   "source": [
    "### Now the body of the blog\n",
    "\n",
    "We generate only a part of the post because we need a human written intro."
   ]
  },
  {
   "cell_type": "code",
   "execution_count": 81,
   "id": "6cfea6c9-b8e1-4f86-be6d-df54f24318a8",
   "metadata": {},
   "outputs": [],
   "source": [
    "body = 'Write article about help society thrive by using artificial intelligence safely and effectively to transform lives.'"
   ]
  },
  {
   "cell_type": "code",
   "execution_count": 103,
   "id": "792f9698-b817-4250-954f-425c7d429905",
   "metadata": {},
   "outputs": [
    {
     "name": "stdout",
     "output_type": "stream",
     "text": [
      "\n",
      "\n",
      "We are on the cusp of a new era in which artificial intelligence (AI) will play an increasingly important role in our lives. When used safely and effectively, AI has the potential to transform lives and help society thrive.\n",
      "\n",
      "There are many potential applications of AI that could have a positive impact on society. For example, AI could be used to help us better understand and protect our environment, to improve healthcare and to make our cities more efficient and liveable.\n",
      "\n",
      "However, as with any new technology, there are also risks associated with the use of AI. For instance, AI could be used to create “superhumans” who are more intelligent and physically capable than the rest of us, or it could be used to create autonomous weapons that could kill without human intervention.\n",
      "\n",
      "It is therefore important that we use AI safely and responsibly, in order to maximise its potential benefits and minimise its risks.\n",
      "\n",
      "Some of the ways in which we can use AI safely and effectively include:\n",
      "\n",
      "1. Developing ethical and responsible AI systems: As AI systems become more sophisticated, it is important to ensure that they are designed and operated in an ethical and responsible manner. This includes ensuring that AI systems are designed to respect human rights, and that they are not used to unfairly discriminate against people.\n",
      "\n",
      "2. Regulating the use of AI: In order to ensure that AI is used safely and responsibly, it is important to put in place appropriate regulations. For instance, regulations could be used to prohibit the use of AI in certain contexts, such as in the development of autonomous weapons.\n",
      "\n",
      "3. Educating people about AI: It is important that people are educated about AI, so that they can understand its potential benefits and risks. This will help to ensure that people are able to make informed decisions about whether and how to use AI.\n",
      "\n",
      "4. Supporting research into AI: It is important to support research into AI, so that we can better understand its potential risks and benefits. This research will help to ensure that AI is developed and used in a safe and responsible manner.\n",
      "\n",
      "5. Working together to use AI safely and effectively: Given the potentially transformative power of AI, it is important that we work together to ensure that it is used safely and effectively. This includes sharing information about AI, and cooperating on research and regulation.\n",
      "\n",
      "By using AI safely and effectively, we can help to transform lives and make our society thrive\n"
     ]
    }
   ],
   "source": [
    "GPT3_Completion(body, 500)"
   ]
  },
  {
   "cell_type": "code",
   "execution_count": 89,
   "id": "9fd9a479-2320-4305-bd77-dd3e0c27509a",
   "metadata": {},
   "outputs": [],
   "source": [
    "response = openai.Completion.create(\n",
    "  model=\"text-davinci-002\",\n",
    "  prompt=\"Decide whether the texto type is prmoter, detractor or neutral.\\n\\ntexto: \\\"I will never recommend to call you guys\\\"\\ntype:\",\n",
    "  temperature=0.1,\n",
    "  max_tokens=3,\n",
    "  top_p=1.0,\n",
    "  frequency_penalty=0.5,\n",
    "  presence_penalty=0.0\n",
    ")"
   ]
  },
  {
   "cell_type": "code",
   "execution_count": 90,
   "id": "df3bcbfd-fbe7-43af-baa4-e00be36eed48",
   "metadata": {},
   "outputs": [
    {
     "data": {
      "text/plain": [
       "<OpenAIObject text_completion id=cmpl-5kguccgmo8DzevaEothgBPAZdFlK5 at 0x7f9737053050> JSON: {\n",
       "  \"choices\": [\n",
       "    {\n",
       "      \"finish_reason\": \"stop\",\n",
       "      \"index\": 0,\n",
       "      \"logprobs\": null,\n",
       "      \"text\": \" detractor\"\n",
       "    }\n",
       "  ],\n",
       "  \"created\": 1661809726,\n",
       "  \"id\": \"cmpl-5kguccgmo8DzevaEothgBPAZdFlK5\",\n",
       "  \"model\": \"text-davinci-002\",\n",
       "  \"object\": \"text_completion\",\n",
       "  \"usage\": {\n",
       "    \"completion_tokens\": 2,\n",
       "    \"prompt_tokens\": 35,\n",
       "    \"total_tokens\": 37\n",
       "  }\n",
       "}"
      ]
     },
     "execution_count": 90,
     "metadata": {},
     "output_type": "execute_result"
    }
   ],
   "source": [
    "response"
   ]
  }
 ],
 "metadata": {
  "kernelspec": {
   "display_name": "Python 3 (ipykernel)",
   "language": "python",
   "name": "python3"
  },
  "language_info": {
   "codemirror_mode": {
    "name": "ipython",
    "version": 3
   },
   "file_extension": ".py",
   "mimetype": "text/x-python",
   "name": "python",
   "nbconvert_exporter": "python",
   "pygments_lexer": "ipython3",
   "version": "3.7.11"
  }
 },
 "nbformat": 4,
 "nbformat_minor": 5
}
