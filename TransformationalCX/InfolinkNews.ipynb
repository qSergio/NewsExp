{
 "cells": [
  {
   "cell_type": "code",
   "execution_count": 2,
   "id": "5251bc8b-1c04-4d82-87c5-e9ac79f8a2d4",
   "metadata": {},
   "outputs": [],
   "source": [
    "#!pip install openai"
   ]
  },
  {
   "cell_type": "code",
   "execution_count": 3,
   "id": "59e7b617-0fe5-4b6e-b17d-1e1505a9ccdc",
   "metadata": {},
   "outputs": [],
   "source": [
    "import os \n",
    "import openai"
   ]
  },
  {
   "cell_type": "code",
   "execution_count": 31,
   "id": "1718ebbc-4833-47de-9ea4-4de6974f578e",
   "metadata": {},
   "outputs": [],
   "source": [
    "def GPT3_Completion(texts, tokens_long):## Call the API key under your account (in a secure way)\n",
    "    openai.api_key = api_llave#\"your API key\"\n",
    "    response = openai.Completion.create(engine=\"text-davinci-002\", \n",
    "                                        prompt =  texts, \n",
    "                                        temperature = 0.55, \n",
    "                                        top_p = 1, \n",
    "                                        max_tokens = tokens_long,\n",
    "                                        frequency_penalty = 0,\n",
    "                                        presence_penalty = 0)\n",
    "    return print(response.choices[0].text)"
   ]
  },
  {
   "cell_type": "code",
   "execution_count": 27,
   "id": "6cfea6c9-b8e1-4f86-be6d-df54f24318a8",
   "metadata": {},
   "outputs": [],
   "source": [
    "recipe = 'Write article about help society thrive by using new technology safely and effectively \\\n",
    "to transform lives, and to improve the health of our communities and planet'"
   ]
  },
  {
   "cell_type": "code",
   "execution_count": 30,
   "id": "792f9698-b817-4250-954f-425c7d429905",
   "metadata": {},
   "outputs": [
    {
     "name": "stdout",
     "output_type": "stream",
     "text": [
      ".\n",
      "\n",
      "Technology is often celebrated for its ability to connect us with others and make our lives easier. But it can also have a dark side. When used improperly, technology can be harmful to our health and wellbeing. It can also impact our environment in negative ways.\n",
      "\n",
      "That’s why it’s so important to use technology safely and effectively, in order to help society thrive. When we do so, we can transform lives and improve the health of our communities and planet.\n",
      "\n",
      "Here are some tips for using technology safely and effectively:\n",
      "\n",
      "1. Use technology to connect with others, but don’t forget to interact face-to-face, too.\n",
      "\n",
      "Technology can be a great way to connect with others, but it shouldn’t replace in-person interactions. Make sure to balance your screen time with time spent talking and interacting with people face-to-face.\n",
      "\n",
      "2. Be mindful of your posture and take breaks when using technology.\n",
      "\n",
      "Using technology for long periods of time can lead to poor posture and strain on your eyes and neck. To avoid these problems, take breaks often and practice good posture while using technology.\n",
      "\n",
      "3. Don’t use technology while driving or doing other activities that require your full attention.\n",
      "\n",
      "Distracted driving is a major safety hazard. If you must use technology while driving, pull over to a safe location first. And never use technology while doing other activities that require your full attention, like cooking or crossing the street.\n",
      "\n",
      "4. Be aware of the potential cyberbullying and online predators.\n",
      "\n",
      "Cyberbullying is a real problem, and online predators are a serious threat. Be aware of the dangers and talk to your kids about how to stay safe online.\n",
      "\n",
      "5. Use technology to improve your health, not harm it.\n",
      "\n",
      "There are many great apps and devices that can help you track your fitness and eat healthy. Use technology to your advantage and find ways to improve your health, not harm it.\n",
      "\n",
      "By following these tips, you can help society thrive by using technology safely and effectively. Let’s use technology for good and make the world a better place!\n"
     ]
    }
   ],
   "source": [
    "GPT3_Completion(recipe, 600)"
   ]
  },
  {
   "cell_type": "code",
   "execution_count": 32,
   "id": "89e217cc-718f-48ff-a01c-767ccedd278d",
   "metadata": {},
   "outputs": [
    {
     "name": "stdout",
     "output_type": "stream",
     "text": [
      "\n",
      "\n",
      "Technology has the potential to help society thrive by transforming lives and improving the health of our communities and planet. When used safely and effectively, new technology can help us to connect with each other and share knowledge, it can improve our understanding of the world around us, and it can help us to protect our environment.\n",
      "\n",
      "For example, the internet has transformed the way we communicate and share information. It has allowed us to connect with people all over the world and has given us access to a wealth of knowledge. We can use the internet to research health information, to find new ways to improve our wellbeing, and to connect with others who are going through similar experiences.\n",
      "\n",
      "Technology can also help us to protect our environment. For example,\n"
     ]
    }
   ],
   "source": [
    "GPT3_Completion(recipe, 150)"
   ]
  },
  {
   "cell_type": "code",
   "execution_count": 50,
   "id": "9fd9a479-2320-4305-bd77-dd3e0c27509a",
   "metadata": {},
   "outputs": [],
   "source": [
    "response = openai.Completion.create(\n",
    "  model=\"text-davinci-002\",\n",
    "  prompt=\"Decide whether the text type is about service, product, or process.\\n\\ntext: \\\"I will never recommend to call you guys\\\"\\ntype:\",\n",
    "  temperature=0.1,\n",
    "  max_tokens=3,\n",
    "  top_p=1.0,\n",
    "  frequency_penalty=0.5,\n",
    "  presence_penalty=0.0\n",
    ")"
   ]
  },
  {
   "cell_type": "code",
   "execution_count": 51,
   "id": "df3bcbfd-fbe7-43af-baa4-e00be36eed48",
   "metadata": {},
   "outputs": [
    {
     "data": {
      "text/plain": [
       "<OpenAIObject text_completion id=cmpl-5jL0iUEBYS82YWRSMSe76ivsnpL6x at 0x7f9737031fb0> JSON: {\n",
       "  \"choices\": [\n",
       "    {\n",
       "      \"finish_reason\": \"stop\",\n",
       "      \"index\": 0,\n",
       "      \"logprobs\": null,\n",
       "      \"text\": \" service\"\n",
       "    }\n",
       "  ],\n",
       "  \"created\": 1661487208,\n",
       "  \"id\": \"cmpl-5jL0iUEBYS82YWRSMSe76ivsnpL6x\",\n",
       "  \"model\": \"text-davinci-002\",\n",
       "  \"object\": \"text_completion\",\n",
       "  \"usage\": {\n",
       "    \"completion_tokens\": 1,\n",
       "    \"prompt_tokens\": 32,\n",
       "    \"total_tokens\": 33\n",
       "  }\n",
       "}"
      ]
     },
     "execution_count": 51,
     "metadata": {},
     "output_type": "execute_result"
    }
   ],
   "source": [
    "response"
   ]
  },
  {
   "cell_type": "code",
   "execution_count": null,
   "id": "f147d8f0-22dc-48aa-a325-826306f56020",
   "metadata": {},
   "outputs": [],
   "source": []
  }
 ],
 "metadata": {
  "kernelspec": {
   "display_name": "Python 3 (ipykernel)",
   "language": "python",
   "name": "python3"
  },
  "language_info": {
   "codemirror_mode": {
    "name": "ipython",
    "version": 3
   },
   "file_extension": ".py",
   "mimetype": "text/x-python",
   "name": "python",
   "nbconvert_exporter": "python",
   "pygments_lexer": "ipython3",
   "version": "3.7.11"
  }
 },
 "nbformat": 4,
 "nbformat_minor": 5
}
