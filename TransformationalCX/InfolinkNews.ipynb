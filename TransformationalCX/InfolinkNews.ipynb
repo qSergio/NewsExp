{
 "cells": [
  {
   "cell_type": "markdown",
   "id": "6ebfbc2b-0e47-4633-b1b8-0760b58bc57f",
   "metadata": {},
   "source": [
    "# Using Machines for Text Generation \n",
    "\n",
    "### Infolink News \n",
    "\n",
    "#### Sergio Nieto"
   ]
  },
  {
   "cell_type": "markdown",
   "id": "d42550bf-b5d6-4b47-a685-3b1b3e115bf4",
   "metadata": {},
   "source": [
    "We'll use OpenAi API to have available the AI model for text generation called GPT-3."
   ]
  },
  {
   "cell_type": "code",
   "execution_count": 2,
   "id": "5251bc8b-1c04-4d82-87c5-e9ac79f8a2d4",
   "metadata": {},
   "outputs": [],
   "source": [
    "#!pip install openai"
   ]
  },
  {
   "cell_type": "code",
   "execution_count": 3,
   "id": "59e7b617-0fe5-4b6e-b17d-1e1505a9ccdc",
   "metadata": {},
   "outputs": [],
   "source": [
    "import os \n",
    "import openai"
   ]
  },
  {
   "cell_type": "markdown",
   "id": "d17e6cf8-2a4d-4270-9c10-fd4667d44097",
   "metadata": {},
   "source": [
    "you will need to save your API key in the variable __api_id"
   ]
  },
  {
   "cell_type": "code",
   "execution_count": 70,
   "id": "1718ebbc-4833-47de-9ea4-4de6974f578e",
   "metadata": {},
   "outputs": [],
   "source": [
    "def GPT3_Completion(texts, tokens_long):## Call the API key under your account (in a secure way)\n",
    "    openai.api_key = api_id #\"your API key\"\n",
    "    response = openai.Completion.create(engine=\"text-davinci-002\", \n",
    "                                        prompt =  texts, \n",
    "                                        temperature = 0.75, \n",
    "                                        top_p = 1, \n",
    "                                        max_tokens = tokens_long,\n",
    "                                        frequency_penalty = 0,\n",
    "                                        presence_penalty = 0)\n",
    "    return print(response.choices[0].text)"
   ]
  },
  {
   "cell_type": "markdown",
   "id": "64ee1d81-8b6f-4d84-8bfa-dfde174f0470",
   "metadata": {},
   "source": [
    "Let's ask GPT to generate text about a specific topic:"
   ]
  },
  {
   "cell_type": "code",
   "execution_count": 61,
   "id": "3422588e-0470-40bd-880d-fffc2fa16bda",
   "metadata": {},
   "outputs": [
    {
     "name": "stdout",
     "output_type": "stream",
     "text": [
      "\n",
      "\n",
      "Topological data analysis is a relatively new field of data analysis that uses topological methods to understand the structure of data. This type of analysis is particularly well suited to data that is not easily visualized, such as high dimensional data sets. Topological methods can help to identify features in the data that may not be apparent from a traditional data analysis.\n"
     ]
    }
   ],
   "source": [
    "GPT3_Completion('Write about topological data analysis', 100)"
   ]
  },
  {
   "cell_type": "code",
   "execution_count": 62,
   "id": "e6479ae9-f09c-400a-8a70-ecc5a9c0f366",
   "metadata": {},
   "outputs": [
    {
     "name": "stdout",
     "output_type": "stream",
     "text": [
      "\n",
      "\n",
      "Topological data analysis (TDA) is a relatively new area of mathematics that is being used increasingly in a variety of fields, including machine learning, data mining, and pattern recognition. TDA is based on the idea of topology, which is a branch of mathematics that studies the properties of space that are invariant under continuous deformations. This means that, unlike traditional methods of data analysis, TDA is not concerned with the specific values of data points, but rather with the relationships between them.\n",
      "\n",
      "TDA has been shown to be particularly effective in analyzing data that is high-dimensional, non-linear, and/or has a complex structure. Furthermore, TDA is able to identify features of the data that may be hidden by traditional methods. For these reasons, TDA is becoming increasingly popular in a variety of fields.\n"
     ]
    }
   ],
   "source": [
    "GPT3_Completion('Write about topological data analysis', 500)"
   ]
  },
  {
   "cell_type": "markdown",
   "id": "d5a31575-e7f6-40bb-b6e4-b944706281c5",
   "metadata": {},
   "source": [
    "### We now turn to our post at Infolink-News\n",
    "\n",
    "First generate a title, perhaps you'll need to tune it a few times:"
   ]
  },
  {
   "cell_type": "code",
   "execution_count": 75,
   "id": "09ba23c1-e9a9-4f8b-979d-5223b80e82b1",
   "metadata": {},
   "outputs": [],
   "source": [
    "title = 'Write a title about We help IoT and Smart Tech companies scale their customer support and human intelligence operations'"
   ]
  },
  {
   "cell_type": "code",
   "execution_count": 76,
   "id": "0addac1e-908d-4669-ade0-bc408196cf3c",
   "metadata": {},
   "outputs": [
    {
     "name": "stdout",
     "output_type": "stream",
     "text": [
      "\n",
      "\n",
      "Scaling Smart: How We Help IoT and Smart Tech Companies Maximize Customer Support and Human Intelligence\n"
     ]
    }
   ],
   "source": [
    "GPT3_Completion(title, 30)"
   ]
  },
  {
   "cell_type": "markdown",
   "id": "fdc3ffe0-d17f-44b2-9021-3048d5abb07b",
   "metadata": {},
   "source": [
    "### Now the body of the blog\n",
    "\n",
    "We generate only a part of the post because we need a human written intro."
   ]
  },
  {
   "cell_type": "code",
   "execution_count": 81,
   "id": "6cfea6c9-b8e1-4f86-be6d-df54f24318a8",
   "metadata": {},
   "outputs": [],
   "source": [
    "body = 'Write article about help society thrive by using artificial intelligence safely and effectively to transform lives.'"
   ]
  },
  {
   "cell_type": "code",
   "execution_count": 83,
   "id": "792f9698-b817-4250-954f-425c7d429905",
   "metadata": {},
   "outputs": [
    {
     "name": "stdout",
     "output_type": "stream",
     "text": [
      "\n",
      "\n",
      "In a world filled with pressing problems, it’s more important than ever to use our resources wisely to create solutions that will help society thrive. Artificial intelligence has the potential to be a powerful tool for transformation, but only if used safely and effectively.\n",
      "\n",
      "When used correctly, AI can help us automate repetitive tasks, identify patterns and trends, and make better decisions. It has the potential to improve efficiency in all sectors of society, from healthcare to transportation. But we need to be careful not to rely on AI too heavily, or else we risk losing our ability to think for ourselves.\n",
      "\n",
      "We also need to be aware of the potential biases that can be built into AI systems. If we’re not careful, AI can amplify existing social inequalities. We need to design AI systems that are fair and just, and that promote the common good.\n",
      "\n",
      "With these considerations in mind, we can use AI to help society thrive in the following ways:\n",
      "\n",
      "1. Helping us make better decisions\n",
      "\n",
      "AI can help us sort through vast amounts of data to identify patterns and trends. This information can then be used to make better decisions about everything from allocation of resources to policymaking. For example, AI could be used to help healthcare systems better identify and treat diseases.\n",
      "\n",
      "2. Automating repetitive tasks\n",
      "\n",
      "AI can help us automate repetitive tasks so that we can focus on more important work. This is especially important in sectors such as healthcare, where human workers are often overburdened with paperwork and other administrative tasks. AI can help take on some of this burden, freeing up human workers to provide better care.\n",
      "\n",
      "3. Improving efficiency\n",
      "\n",
      "AI can help us improve efficiency in all sorts of areas, from transportation to energy use. For example, AI-powered “smart grids” could help us better manage energy use, and autonomous vehicles could help reduce traffic congestion.\n",
      "\n",
      "4. Connecting us with expert help\n",
      "\n",
      "AI can help connect us with expert help when we need it. For example, AI-powered chatbots can provide customer service or medical advice. And AI-powered digital assistants can help us manage our schedules and keep track of our to-do lists.\n",
      "\n",
      "5. Helping us better understand the world\n",
      "\n",
      "AI can help us better understand the world around us. For example, AI-powered “news bots” can help us keep up with the latest news and developments in our field of interest. And AI-powered “data visualizations” can help us make sense of complex data sets.\n",
      "\n",
      "6. Empowering us to make a difference\n",
      "\n",
      "AI can help us make a difference in the world by giving us the power to do things we couldn’t do before. For example, AI-powered “robot journalists” can help us report on important stories that would otherwise go untold. And AI-powered “crowdfunding platforms” can help us finance important projects.\n",
      "\n",
      "7. Helping us find our purpose\n",
      "\n",
      "AI can help us find our purpose in life by matching our skills and interests with opportunities to make a difference. For example, AI-powered “career counselors” can help us find jobs that are a good fit for us. And AI-powered “social media bots” can help us connect with like-minded people.\n",
      "\n",
      "8. Helping us stay healthy\n",
      "\n",
      "AI can help us stay healthy by providing us with personalized health advice. For example, AI-powered “fitness trackers” can help us track our physical activity and sleep patterns. And AI-powered “nutrition apps” can help us make better food choices.\n",
      "\n",
      "9. Helping us protect the environment\n",
      "\n",
      "AI can help us protect the environment by helping us identify and track environmental problems. For example, AI-powered “satellite images” can help us track deforestation. And AI-powered “air quality monitors” can help us track air pollution.\n",
      "\n",
      "10. Helping us build a better future\n",
      "\n",
      "AI can help us build a better future by helping us solve problems that have stumped us for generations. For example, AI-powered “ AI ethics boards” can help us make sure that we’re using AI in a ethically responsible way. And AI-powered “planning tools\n"
     ]
    }
   ],
   "source": [
    "GPT3_Completion(body, 900)"
   ]
  },
  {
   "cell_type": "code",
   "execution_count": 50,
   "id": "9fd9a479-2320-4305-bd77-dd3e0c27509a",
   "metadata": {},
   "outputs": [],
   "source": [
    "response = openai.Completion.create(\n",
    "  model=\"text-davinci-002\",\n",
    "  prompt=\"Decide whether the text type is about service, product, or process.\\n\\ntext: \\\"I will never recommend to call you guys\\\"\\ntype:\",\n",
    "  temperature=0.1,\n",
    "  max_tokens=3,\n",
    "  top_p=1.0,\n",
    "  frequency_penalty=0.5,\n",
    "  presence_penalty=0.0\n",
    ")"
   ]
  },
  {
   "cell_type": "code",
   "execution_count": 51,
   "id": "df3bcbfd-fbe7-43af-baa4-e00be36eed48",
   "metadata": {},
   "outputs": [
    {
     "data": {
      "text/plain": [
       "<OpenAIObject text_completion id=cmpl-5jL0iUEBYS82YWRSMSe76ivsnpL6x at 0x7f9737031fb0> JSON: {\n",
       "  \"choices\": [\n",
       "    {\n",
       "      \"finish_reason\": \"stop\",\n",
       "      \"index\": 0,\n",
       "      \"logprobs\": null,\n",
       "      \"text\": \" service\"\n",
       "    }\n",
       "  ],\n",
       "  \"created\": 1661487208,\n",
       "  \"id\": \"cmpl-5jL0iUEBYS82YWRSMSe76ivsnpL6x\",\n",
       "  \"model\": \"text-davinci-002\",\n",
       "  \"object\": \"text_completion\",\n",
       "  \"usage\": {\n",
       "    \"completion_tokens\": 1,\n",
       "    \"prompt_tokens\": 32,\n",
       "    \"total_tokens\": 33\n",
       "  }\n",
       "}"
      ]
     },
     "execution_count": 51,
     "metadata": {},
     "output_type": "execute_result"
    }
   ],
   "source": [
    "response"
   ]
  },
  {
   "cell_type": "code",
   "execution_count": null,
   "id": "f147d8f0-22dc-48aa-a325-826306f56020",
   "metadata": {},
   "outputs": [],
   "source": []
  }
 ],
 "metadata": {
  "kernelspec": {
   "display_name": "Python 3 (ipykernel)",
   "language": "python",
   "name": "python3"
  },
  "language_info": {
   "codemirror_mode": {
    "name": "ipython",
    "version": 3
   },
   "file_extension": ".py",
   "mimetype": "text/x-python",
   "name": "python",
   "nbconvert_exporter": "python",
   "pygments_lexer": "ipython3",
   "version": "3.7.11"
  }
 },
 "nbformat": 4,
 "nbformat_minor": 5
}
