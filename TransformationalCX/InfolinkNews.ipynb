{
 "cells": [
  {
   "cell_type": "markdown",
   "id": "6ebfbc2b-0e47-4633-b1b8-0760b58bc57f",
   "metadata": {},
   "source": [
    "# Using Machines for Text Generation \n",
    "\n",
    "### Infolink News \n",
    "\n",
    "#### Sergio Nieto"
   ]
  },
  {
   "cell_type": "markdown",
   "id": "d42550bf-b5d6-4b47-a685-3b1b3e115bf4",
   "metadata": {},
   "source": [
    "We'll use OpenAi API to have availabl"
   ]
  },
  {
   "cell_type": "code",
   "execution_count": 2,
   "id": "5251bc8b-1c04-4d82-87c5-e9ac79f8a2d4",
   "metadata": {},
   "outputs": [],
   "source": [
    "#!pip install openai"
   ]
  },
  {
   "cell_type": "code",
   "execution_count": 3,
   "id": "59e7b617-0fe5-4b6e-b17d-1e1505a9ccdc",
   "metadata": {},
   "outputs": [],
   "source": [
    "import os \n",
    "import openai"
   ]
  },
  {
   "cell_type": "code",
   "execution_count": 56,
   "id": "1718ebbc-4833-47de-9ea4-4de6974f578e",
   "metadata": {},
   "outputs": [],
   "source": [
    "def GPT3_Completion(texts, tokens_long):## Call the API key under your account (in a secure way)\n",
    "    openai.api_key = api_llave#\"your API key\"\n",
    "    response = openai.Completion.create(engine=\"text-davinci-002\", \n",
    "                                        prompt =  texts, \n",
    "                                        temperature = 0.45, \n",
    "                                        top_p = 1, \n",
    "                                        max_tokens = tokens_long,\n",
    "                                        frequency_penalty = 0,\n",
    "                                        presence_penalty = 0)\n",
    "    return print(response.choices[0].text)"
   ]
  },
  {
   "cell_type": "code",
   "execution_count": 61,
   "id": "3422588e-0470-40bd-880d-fffc2fa16bda",
   "metadata": {},
   "outputs": [
    {
     "name": "stdout",
     "output_type": "stream",
     "text": [
      "\n",
      "\n",
      "Topological data analysis is a relatively new field of data analysis that uses topological methods to understand the structure of data. This type of analysis is particularly well suited to data that is not easily visualized, such as high dimensional data sets. Topological methods can help to identify features in the data that may not be apparent from a traditional data analysis.\n"
     ]
    }
   ],
   "source": [
    "GPT3_Completion('Write about topological data analysis', 100)"
   ]
  },
  {
   "cell_type": "code",
   "execution_count": 62,
   "id": "e6479ae9-f09c-400a-8a70-ecc5a9c0f366",
   "metadata": {},
   "outputs": [
    {
     "name": "stdout",
     "output_type": "stream",
     "text": [
      "\n",
      "\n",
      "Topological data analysis (TDA) is a relatively new area of mathematics that is being used increasingly in a variety of fields, including machine learning, data mining, and pattern recognition. TDA is based on the idea of topology, which is a branch of mathematics that studies the properties of space that are invariant under continuous deformations. This means that, unlike traditional methods of data analysis, TDA is not concerned with the specific values of data points, but rather with the relationships between them.\n",
      "\n",
      "TDA has been shown to be particularly effective in analyzing data that is high-dimensional, non-linear, and/or has a complex structure. Furthermore, TDA is able to identify features of the data that may be hidden by traditional methods. For these reasons, TDA is becoming increasingly popular in a variety of fields.\n"
     ]
    }
   ],
   "source": [
    "GPT3_Completion('Write about topological data analysis', 500)"
   ]
  },
  {
   "cell_type": "code",
   "execution_count": 63,
   "id": "09ba23c1-e9a9-4f8b-979d-5223b80e82b1",
   "metadata": {},
   "outputs": [],
   "source": [
    "title = 'Write a title for my book about help society thrive by using new smart technology safely and effectively transform lives.'"
   ]
  },
  {
   "cell_type": "code",
   "execution_count": 66,
   "id": "0addac1e-908d-4669-ade0-bc408196cf3c",
   "metadata": {},
   "outputs": [
    {
     "name": "stdout",
     "output_type": "stream",
     "text": [
      "\n",
      "\n",
      "Smart Technology for a Better World: How to Use New Smart Technology to Help Society Thrive\n"
     ]
    }
   ],
   "source": [
    "GPT3_Completion(title, 30)"
   ]
  },
  {
   "cell_type": "code",
   "execution_count": 52,
   "id": "6cfea6c9-b8e1-4f86-be6d-df54f24318a8",
   "metadata": {},
   "outputs": [],
   "source": [
    "body = 'Write article about help society thrive by using new technology safely and effectively to transform lives.'"
   ]
  },
  {
   "cell_type": "code",
   "execution_count": 53,
   "id": "792f9698-b817-4250-954f-425c7d429905",
   "metadata": {},
   "outputs": [
    {
     "name": "stdout",
     "output_type": "stream",
     "text": [
      "\n",
      "\n",
      "New technology has the potential to help society thrive by transforming lives safely and effectively. When used correctly, new technology can help us improve our health, education, and communication while also reducing our impact on the environment.\n",
      "\n",
      "Some of the ways new technology is helping society include:\n",
      "\n",
      "1. Health: New technology is helping us to better monitor and manage our health. We can now track our fitness levels, sleep patterns, and calorie intake with wearable devices and apps. This information can help us make better choices about our health and wellbeing.\n",
      "\n",
      "2. Education: Technology is also changing the way we learn. Online learning platforms and MOOCs (massive open online courses) are making education more accessible than ever before. Students can now study at their own pace and from anywhere in the world.\n",
      "\n",
      "3. Communication: Technology has also improved our ability to communicate with each other. We can now connect with people instantly via text, email, social media, and video calls. This has made it easier to stay in touch with loved ones and build relationships with people from all over the world.\n",
      "\n",
      "4. Environment: Finally, new technology is also helping us to be more environmentally friendly. We can now recycle more efficiently, reduce our energy consumption, and even generate our own electricity with renewable energy sources.\n",
      "\n",
      "By using new technology safely and effectively, we can help society thrive.\n"
     ]
    }
   ],
   "source": [
    "GPT3_Completion(recipe, 600)"
   ]
  },
  {
   "cell_type": "code",
   "execution_count": 32,
   "id": "89e217cc-718f-48ff-a01c-767ccedd278d",
   "metadata": {},
   "outputs": [
    {
     "name": "stdout",
     "output_type": "stream",
     "text": [
      "\n",
      "\n",
      "Technology has the potential to help society thrive by transforming lives and improving the health of our communities and planet. When used safely and effectively, new technology can help us to connect with each other and share knowledge, it can improve our understanding of the world around us, and it can help us to protect our environment.\n",
      "\n",
      "For example, the internet has transformed the way we communicate and share information. It has allowed us to connect with people all over the world and has given us access to a wealth of knowledge. We can use the internet to research health information, to find new ways to improve our wellbeing, and to connect with others who are going through similar experiences.\n",
      "\n",
      "Technology can also help us to protect our environment. For example,\n"
     ]
    }
   ],
   "source": [
    "GPT3_Completion(recipe, 150)"
   ]
  },
  {
   "cell_type": "code",
   "execution_count": 50,
   "id": "9fd9a479-2320-4305-bd77-dd3e0c27509a",
   "metadata": {},
   "outputs": [],
   "source": [
    "response = openai.Completion.create(\n",
    "  model=\"text-davinci-002\",\n",
    "  prompt=\"Decide whether the text type is about service, product, or process.\\n\\ntext: \\\"I will never recommend to call you guys\\\"\\ntype:\",\n",
    "  temperature=0.1,\n",
    "  max_tokens=3,\n",
    "  top_p=1.0,\n",
    "  frequency_penalty=0.5,\n",
    "  presence_penalty=0.0\n",
    ")"
   ]
  },
  {
   "cell_type": "code",
   "execution_count": 51,
   "id": "df3bcbfd-fbe7-43af-baa4-e00be36eed48",
   "metadata": {},
   "outputs": [
    {
     "data": {
      "text/plain": [
       "<OpenAIObject text_completion id=cmpl-5jL0iUEBYS82YWRSMSe76ivsnpL6x at 0x7f9737031fb0> JSON: {\n",
       "  \"choices\": [\n",
       "    {\n",
       "      \"finish_reason\": \"stop\",\n",
       "      \"index\": 0,\n",
       "      \"logprobs\": null,\n",
       "      \"text\": \" service\"\n",
       "    }\n",
       "  ],\n",
       "  \"created\": 1661487208,\n",
       "  \"id\": \"cmpl-5jL0iUEBYS82YWRSMSe76ivsnpL6x\",\n",
       "  \"model\": \"text-davinci-002\",\n",
       "  \"object\": \"text_completion\",\n",
       "  \"usage\": {\n",
       "    \"completion_tokens\": 1,\n",
       "    \"prompt_tokens\": 32,\n",
       "    \"total_tokens\": 33\n",
       "  }\n",
       "}"
      ]
     },
     "execution_count": 51,
     "metadata": {},
     "output_type": "execute_result"
    }
   ],
   "source": [
    "response"
   ]
  },
  {
   "cell_type": "code",
   "execution_count": null,
   "id": "f147d8f0-22dc-48aa-a325-826306f56020",
   "metadata": {},
   "outputs": [],
   "source": []
  }
 ],
 "metadata": {
  "kernelspec": {
   "display_name": "Python 3 (ipykernel)",
   "language": "python",
   "name": "python3"
  },
  "language_info": {
   "codemirror_mode": {
    "name": "ipython",
    "version": 3
   },
   "file_extension": ".py",
   "mimetype": "text/x-python",
   "name": "python",
   "nbconvert_exporter": "python",
   "pygments_lexer": "ipython3",
   "version": "3.7.11"
  }
 },
 "nbformat": 4,
 "nbformat_minor": 5
}
